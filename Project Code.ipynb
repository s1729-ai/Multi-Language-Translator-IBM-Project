{
  "cells": [
    {
      "cell_type": "code",
      "execution_count": null,
      "metadata": {
        "colab": {
          "base_uri": "https://localhost:8080/"
        },
        "id": "QCp8jt9zE2Iy",
        "outputId": "3352baaa-9fb9-4f97-c008-c96a45ee8ea3"
      },
      "outputs": [
        {
          "output_type": "stream",
          "name": "stdout",
          "text": [
            "Requirement already satisfied: transformers in /usr/local/lib/python3.12/dist-packages (4.56.1)\n",
            "Requirement already satisfied: sentencepiece in /usr/local/lib/python3.12/dist-packages (0.2.1)\n",
            "Requirement already satisfied: gradio in /usr/local/lib/python3.12/dist-packages (5.46.0)\n",
            "Requirement already satisfied: filelock in /usr/local/lib/python3.12/dist-packages (from transformers) (3.19.1)\n",
            "Requirement already satisfied: huggingface-hub<1.0,>=0.34.0 in /usr/local/lib/python3.12/dist-packages (from transformers) (0.35.0)\n",
            "Requirement already satisfied: numpy>=1.17 in /usr/local/lib/python3.12/dist-packages (from transformers) (2.0.2)\n",
            "Requirement already satisfied: packaging>=20.0 in /usr/local/lib/python3.12/dist-packages (from transformers) (25.0)\n",
            "Requirement already satisfied: pyyaml>=5.1 in /usr/local/lib/python3.12/dist-packages (from transformers) (6.0.2)\n",
            "Requirement already satisfied: regex!=2019.12.17 in /usr/local/lib/python3.12/dist-packages (from transformers) (2024.11.6)\n",
            "Requirement already satisfied: requests in /usr/local/lib/python3.12/dist-packages (from transformers) (2.32.4)\n",
            "Requirement already satisfied: tokenizers<=0.23.0,>=0.22.0 in /usr/local/lib/python3.12/dist-packages (from transformers) (0.22.0)\n",
            "Requirement already satisfied: safetensors>=0.4.3 in /usr/local/lib/python3.12/dist-packages (from transformers) (0.6.2)\n",
            "Requirement already satisfied: tqdm>=4.27 in /usr/local/lib/python3.12/dist-packages (from transformers) (4.67.1)\n",
            "Requirement already satisfied: aiofiles<25.0,>=22.0 in /usr/local/lib/python3.12/dist-packages (from gradio) (24.1.0)\n",
            "Requirement already satisfied: anyio<5.0,>=3.0 in /usr/local/lib/python3.12/dist-packages (from gradio) (4.10.0)\n",
            "Requirement already satisfied: brotli>=1.1.0 in /usr/local/lib/python3.12/dist-packages (from gradio) (1.1.0)\n",
            "Requirement already satisfied: fastapi<1.0,>=0.115.2 in /usr/local/lib/python3.12/dist-packages (from gradio) (0.116.2)\n",
            "Requirement already satisfied: ffmpy in /usr/local/lib/python3.12/dist-packages (from gradio) (0.6.1)\n",
            "Requirement already satisfied: gradio-client==1.13.0 in /usr/local/lib/python3.12/dist-packages (from gradio) (1.13.0)\n",
            "Requirement already satisfied: groovy~=0.1 in /usr/local/lib/python3.12/dist-packages (from gradio) (0.1.2)\n",
            "Requirement already satisfied: httpx<1.0,>=0.24.1 in /usr/local/lib/python3.12/dist-packages (from gradio) (0.28.1)\n",
            "Requirement already satisfied: jinja2<4.0 in /usr/local/lib/python3.12/dist-packages (from gradio) (3.1.6)\n",
            "Requirement already satisfied: markupsafe<4.0,>=2.0 in /usr/local/lib/python3.12/dist-packages (from gradio) (3.0.2)\n",
            "Requirement already satisfied: orjson~=3.0 in /usr/local/lib/python3.12/dist-packages (from gradio) (3.11.3)\n",
            "Requirement already satisfied: pandas<3.0,>=1.0 in /usr/local/lib/python3.12/dist-packages (from gradio) (2.2.2)\n",
            "Requirement already satisfied: pillow<12.0,>=8.0 in /usr/local/lib/python3.12/dist-packages (from gradio) (11.3.0)\n",
            "Requirement already satisfied: pydantic<2.12,>=2.0 in /usr/local/lib/python3.12/dist-packages (from gradio) (2.11.9)\n",
            "Requirement already satisfied: pydub in /usr/local/lib/python3.12/dist-packages (from gradio) (0.25.1)\n",
            "Requirement already satisfied: python-multipart>=0.0.18 in /usr/local/lib/python3.12/dist-packages (from gradio) (0.0.20)\n",
            "Requirement already satisfied: ruff>=0.9.3 in /usr/local/lib/python3.12/dist-packages (from gradio) (0.13.0)\n",
            "Requirement already satisfied: safehttpx<0.2.0,>=0.1.6 in /usr/local/lib/python3.12/dist-packages (from gradio) (0.1.6)\n",
            "Requirement already satisfied: semantic-version~=2.0 in /usr/local/lib/python3.12/dist-packages (from gradio) (2.10.0)\n",
            "Requirement already satisfied: starlette<1.0,>=0.40.0 in /usr/local/lib/python3.12/dist-packages (from gradio) (0.48.0)\n",
            "Requirement already satisfied: tomlkit<0.14.0,>=0.12.0 in /usr/local/lib/python3.12/dist-packages (from gradio) (0.13.3)\n",
            "Requirement already satisfied: typer<1.0,>=0.12 in /usr/local/lib/python3.12/dist-packages (from gradio) (0.17.4)\n",
            "Requirement already satisfied: typing-extensions~=4.0 in /usr/local/lib/python3.12/dist-packages (from gradio) (4.15.0)\n",
            "Requirement already satisfied: uvicorn>=0.14.0 in /usr/local/lib/python3.12/dist-packages (from gradio) (0.35.0)\n",
            "Requirement already satisfied: fsspec in /usr/local/lib/python3.12/dist-packages (from gradio-client==1.13.0->gradio) (2025.3.0)\n",
            "Requirement already satisfied: websockets<16.0,>=10.0 in /usr/local/lib/python3.12/dist-packages (from gradio-client==1.13.0->gradio) (15.0.1)\n",
            "Requirement already satisfied: idna>=2.8 in /usr/local/lib/python3.12/dist-packages (from anyio<5.0,>=3.0->gradio) (3.10)\n",
            "Requirement already satisfied: sniffio>=1.1 in /usr/local/lib/python3.12/dist-packages (from anyio<5.0,>=3.0->gradio) (1.3.1)\n",
            "Requirement already satisfied: certifi in /usr/local/lib/python3.12/dist-packages (from httpx<1.0,>=0.24.1->gradio) (2025.8.3)\n",
            "Requirement already satisfied: httpcore==1.* in /usr/local/lib/python3.12/dist-packages (from httpx<1.0,>=0.24.1->gradio) (1.0.9)\n",
            "Requirement already satisfied: h11>=0.16 in /usr/local/lib/python3.12/dist-packages (from httpcore==1.*->httpx<1.0,>=0.24.1->gradio) (0.16.0)\n",
            "Requirement already satisfied: hf-xet<2.0.0,>=1.1.3 in /usr/local/lib/python3.12/dist-packages (from huggingface-hub<1.0,>=0.34.0->transformers) (1.1.10)\n",
            "Requirement already satisfied: python-dateutil>=2.8.2 in /usr/local/lib/python3.12/dist-packages (from pandas<3.0,>=1.0->gradio) (2.9.0.post0)\n",
            "Requirement already satisfied: pytz>=2020.1 in /usr/local/lib/python3.12/dist-packages (from pandas<3.0,>=1.0->gradio) (2025.2)\n",
            "Requirement already satisfied: tzdata>=2022.7 in /usr/local/lib/python3.12/dist-packages (from pandas<3.0,>=1.0->gradio) (2025.2)\n",
            "Requirement already satisfied: annotated-types>=0.6.0 in /usr/local/lib/python3.12/dist-packages (from pydantic<2.12,>=2.0->gradio) (0.7.0)\n",
            "Requirement already satisfied: pydantic-core==2.33.2 in /usr/local/lib/python3.12/dist-packages (from pydantic<2.12,>=2.0->gradio) (2.33.2)\n",
            "Requirement already satisfied: typing-inspection>=0.4.0 in /usr/local/lib/python3.12/dist-packages (from pydantic<2.12,>=2.0->gradio) (0.4.1)\n",
            "Requirement already satisfied: click>=8.0.0 in /usr/local/lib/python3.12/dist-packages (from typer<1.0,>=0.12->gradio) (8.2.1)\n",
            "Requirement already satisfied: shellingham>=1.3.0 in /usr/local/lib/python3.12/dist-packages (from typer<1.0,>=0.12->gradio) (1.5.4)\n",
            "Requirement already satisfied: rich>=10.11.0 in /usr/local/lib/python3.12/dist-packages (from typer<1.0,>=0.12->gradio) (13.9.4)\n",
            "Requirement already satisfied: charset_normalizer<4,>=2 in /usr/local/lib/python3.12/dist-packages (from requests->transformers) (3.4.3)\n",
            "Requirement already satisfied: urllib3<3,>=1.21.1 in /usr/local/lib/python3.12/dist-packages (from requests->transformers) (2.5.0)\n",
            "Requirement already satisfied: six>=1.5 in /usr/local/lib/python3.12/dist-packages (from python-dateutil>=2.8.2->pandas<3.0,>=1.0->gradio) (1.17.0)\n",
            "Requirement already satisfied: markdown-it-py>=2.2.0 in /usr/local/lib/python3.12/dist-packages (from rich>=10.11.0->typer<1.0,>=0.12->gradio) (4.0.0)\n",
            "Requirement already satisfied: pygments<3.0.0,>=2.13.0 in /usr/local/lib/python3.12/dist-packages (from rich>=10.11.0->typer<1.0,>=0.12->gradio) (2.19.2)\n",
            "Requirement already satisfied: mdurl~=0.1 in /usr/local/lib/python3.12/dist-packages (from markdown-it-py>=2.2.0->rich>=10.11.0->typer<1.0,>=0.12->gradio) (0.1.2)\n"
          ]
        }
      ],
      "source": [
        "# Install the tools we need: AI model library, tokenizer, and web interface\n",
        "!pip install transformers sentencepiece gradio\n"
      ]
    },
    {
      "cell_type": "code",
      "execution_count": null,
      "metadata": {
        "id": "JVvmHs4GKdDs"
      },
      "outputs": [],
      "source": [
        "# Import necessary libraries:\n",
        "# os → for system operations,\n",
        "# transformers → to use the M2M100 AI translation model,\n",
        "# gradio → to create a simple web interface\n",
        "import os\n",
        "from transformers import M2M100ForConditionalGeneration, M2M100Tokenizer\n",
        "import gradio as gr\n"
      ]
    },
    {
      "cell_type": "code",
      "execution_count": null,
      "metadata": {
        "id": "vNaL7zbrK9xy"
      },
      "outputs": [],
      "source": [
        "os.environ.pop(\"HUGGINGFACE_TOKEN\", None)"
      ]
    },
    {
      "cell_type": "code",
      "execution_count": null,
      "metadata": {
        "id": "cGmhz5aGKi2k"
      },
      "outputs": [],
      "source": [
        "# Function to translate text from source language to target language\n",
        "def translate(text, src_lang, tgt_lang):\n",
        "    tokenizer.src_lang = src_lang                        # Set the source language for the tokenizer\n",
        "    encoded = tokenizer(text, return_tensors=\"pt\")       # Convert input text into model-friendly format (tensor)\n",
        "    generated_tokens = model.generate(\n",
        "        **encoded,\n",
        "        forced_bos_token_id=tokenizer.get_lang_id(tgt_lang)  # Set target language for translation\n",
        "    )\n",
        "    translated = tokenizer.batch_decode(generated_tokens, skip_special_tokens=True)  # Convert tokens back to text\n",
        "    return translated[0]  # Return the translated text as a string\n"
      ]
    },
    {
      "cell_type": "code",
      "execution_count": null,
      "metadata": {
        "id": "TLws8u7tKquG"
      },
      "outputs": [],
      "source": []
    },
    {
      "cell_type": "code",
      "execution_count": null,
      "metadata": {
        "colab": {
          "base_uri": "https://localhost:8080/",
          "height": 591
        },
        "id": "1bALJnXHLVtE",
        "outputId": "f0a9a85c-924b-4e7f-ab36-e76ff80b48a8"
      },
      "outputs": [
        {
          "output_type": "stream",
          "name": "stdout",
          "text": [
            "Colab notebook detected. To show errors in colab notebook, set debug=True in launch()\n",
            "* Running on public URL: https://f19f63e12d4fae6c3c.gradio.live\n",
            "\n",
            "This share link expires in 1 week. For free permanent hosting and GPU upgrades, run `gradio deploy` from the terminal in the working directory to deploy to Hugging Face Spaces (https://huggingface.co/spaces)\n"
          ]
        },
        {
          "output_type": "display_data",
          "data": {
            "text/plain": [
              "<IPython.core.display.HTML object>"
            ],
            "text/html": [
              "<div><iframe src=\"https://f19f63e12d4fae6c3c.gradio.live\" width=\"100%\" height=\"500\" allow=\"autoplay; camera; microphone; clipboard-read; clipboard-write;\" frameborder=\"0\" allowfullscreen></iframe></div>"
            ]
          },
          "metadata": {}
        },
        {
          "output_type": "execute_result",
          "data": {
            "text/plain": []
          },
          "metadata": {},
          "execution_count": 19
        }
      ],
      "source": [
        "import gradio as gr\n",
        "from transformers import M2M100ForConditionalGeneration, M2M100Tokenizer\n",
        "\n",
        "# ✅ Load tokenizer and model\n",
        "model_name = \"facebook/m2m100_418M\"\n",
        "tokenizer = M2M100Tokenizer.from_pretrained(model_name)\n",
        "model = M2M100ForConditionalGeneration.from_pretrained(model_name)\n",
        "\n",
        "def translate(text, src_lang, tgt_lang):\n",
        "    # Convert full language names to language codes\n",
        "    src_lang_abbr = next(abbr for display_name, abbr in src_langs.items() if display_name == src_lang)\n",
        "    tgt_lang_abbr = next(abbr for display_name, abbr in src_langs.items() if display_name == tgt_lang)\n",
        "\n",
        "    tokenizer.src_lang = src_lang_abbr\n",
        "    encoded = tokenizer(text, return_tensors=\"pt\")\n",
        "    generated_tokens = model.generate(\n",
        "        **encoded,\n",
        "        forced_bos_token_id=tokenizer.get_lang_id(tgt_lang_abbr)\n",
        "    )\n",
        "    translated = tokenizer.batch_decode(generated_tokens, skip_special_tokens=True)\n",
        "    return translated[0]\n",
        "\n",
        "# Language map: Full names → language codes\n",
        "src_langs = {\n",
        "    \"English\": \"en\", \"Hindi (हिंदी)\": \"hi\", \"French (français)\": \"fr\", \"German (Deutsch)\": \"de\", \"Spanish (español)\": \"es\",\n",
        "    \"Chinese (中文)\": \"zh\", \"Japanese (日本語)\": \"ja\", \"Korean (한국어)\": \"ko\", \"Russian (русский)\": \"ru\", \"Arabic (العربية)\": \"ar\",\n",
        "    \"Portuguese (português)\": \"pt\", \"Italian (italiano)\": \"it\", \"Dutch (Nederlands)\": \"nl\", \"Swedish (svenska)\": \"sv\", \"Norwegian (norsk)\": \"no\",\n",
        "    \"Danish (dansk)\": \"da\", \"Finnish (suomi)\": \"fi\", \"Greek (Ελληνικά)\": \"el\", \"Turkish (Türkçe)\": \"tr\", \"Hebrew (עברית)\": \"he\",\n",
        "    \"Polish (polski)\": \"pl\", \"Ukrainian (українська)\": \"uk\", \"Hungarian (magyar)\": \"hu\", \"Czech (čeština)\": \"cs\", \"Slovak (slovenčina)\": \"sk\",\n",
        "    \"Vietnamese (Tiếng Việt)\": \"vi\", \"Thai (ไทย)\": \"th\", \"Indonesian (Bahasa Indonesia)\": \"id\", \"Malay (Bahasa Melayu)\": \"ms\", \"Filipino (Tagalog)\": \"tl\",\n",
        "    \"Bengali (বাংলা)\": \"bn\", \"Gujarati (ગુજરાતી)\": \"gu\", \"Kannada (ಕನ್ನಡ)\": \"kn\", \"Malayalam (മലയാളം)\": \"ml\", \"Marathi (मराठी)\": \"mr\",\n",
        "    \"Nepali (नेपाली)\": \"ne\", \"Oriya (ଓଡ଼ିଆ)\": \"or\", \"Punjabi (ਪੰਜਾਬੀ)\": \"pa\", \"Tamil (தமிழ்)\": \"ta\", \"Telugu (తెలుగు)\": \"te\",\n",
        "    \"Urdu (اردو)\": \"ur\", \"Swahili (Kiswahili)\": \"sw\", \"Amharic (አማርኛ)\": \"am\", \"Yoruba (Yorùbá)\": \"yo\", \"Igbo (Igbo)\": \"ig\",\n",
        "    \"Hausa (Hausa)\": \"ha\", \"Zulu (isiZulu)\": \"zu\", \"Xhosa (isiXhosa)\": \"xh\", \"Afrikaans (Afrikaans)\": \"af\", \"Albanian (Shqip)\": \"sq\",\n",
        "    \"Armenian (Հայերեն)\": \"hy\", \"Azerbaijani (Azərbaycan dili)\": \"az\", \"Basque (Euskara)\": \"eu\", \"Belarusian (беларуская)\": \"be\", \"Bosnian (bosanski)\": \"bs\",\n",
        "    \"Bulgarian (български)\": \"bg\", \"Catalan (català)\": \"ca\", \"Croatian (hrvatski)\": \"hr\", \"Estonian (eesti)\": \"et\", \"Georgian (ქართული)\": \"ka\",\n",
        "    \"Irish (Gaeilge)\": \"ga\", \"Icelandic (Íslenska)\": \"is\", \"Latvian (latviešu)\": \"lv\", \"Lithuanian (lietuvių)\": \"lt\", \"Macedonian (македонски)\": \"mk\",\n",
        "    \"Maltese (Malti)\": \"mt\", \"Norwegian Bokmål (bokmål)\": \"nb\", \"Persian (فارسی)\": \"fa\", \"Romanian (română)\": \"ro\", \"Serbian (српски)\": \"sr\",\n",
        "    \"Slovenian (slovenščina)\": \"sl\"\n",
        "}\n",
        "\n",
        "# Optional CSS styling\n",
        "css = \"\"\"\n",
        "#translator {\n",
        "    background-color: #f0f0f0;\n",
        "    padding: 30px;\n",
        "    border-radius: 15px;\n",
        "    font-family: 'Arial', sans-serif;\n",
        "}\n",
        "h1 {\n",
        "    text-align: center;\n",
        "    color: #333;\n",
        "}\n",
        "label {\n",
        "    font-weight: bold;\n",
        "    color: #555;\n",
        "}\n",
        "\"\"\"\n",
        "\n",
        "# Build Gradio interface\n",
        "with gr.Blocks(css=css) as demo:\n",
        "    gr.Markdown(\"# 🌍 Multi-Language Translator (M2M100)\")\n",
        "    with gr.Row():\n",
        "        input_text = gr.Textbox(label=\"Enter text to translate\", lines=3)\n",
        "    with gr.Row():\n",
        "        src = gr.Dropdown(choices=list(src_langs.keys()), value=\"English\", label=\"Source Language\")\n",
        "        tgt = gr.Dropdown(choices=list(src_langs.keys()), value=\"Hindi (हिंदी)\", label=\"Target Language\")\n",
        "    with gr.Row():\n",
        "        translate_btn = gr.Button(\"Translate\")\n",
        "    output = gr.Textbox(label=\"Translation Output\", lines=3)\n",
        "\n",
        "    translate_btn.click(\n",
        "        translate,\n",
        "        inputs=[input_text, src, tgt],\n",
        "        outputs=output,\n",
        "        api_name=\"translate\"\n",
        "    )\n",
        "\n",
        "# Launch the app\n",
        "demo.launch(share=True)\n"
      ]
    }
  ],
  "metadata": {
    "colab": {
      "provenance": []
    },
    "kernelspec": {
      "display_name": "Python 3",
      "name": "python3"
    },
    "language_info": {
      "codemirror_mode": {
        "name": "ipython",
        "version": 3
      },
      "file_extension": ".py",
      "mimetype": "text/x-python",
      "name": "python",
      "nbconvert_exporter": "python",
      "pygments_lexer": "ipython3",
      "version": "3.13.7"
    }
  },
  "nbformat": 4,
  "nbformat_minor": 0
}